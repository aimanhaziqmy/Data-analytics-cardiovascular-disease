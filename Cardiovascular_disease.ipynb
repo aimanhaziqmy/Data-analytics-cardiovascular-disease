{
  "nbformat": 4,
  "nbformat_minor": 0,
  "metadata": {
    "colab": {
      "provenance": [],
      "authorship_tag": "ABX9TyPg2uk13cx1ZnR1W8mqKIOF",
      "include_colab_link": true
    },
    "kernelspec": {
      "name": "python3",
      "display_name": "Python 3"
    },
    "language_info": {
      "name": "python"
    }
  },
  "cells": [
    {
      "cell_type": "markdown",
      "metadata": {
        "id": "view-in-github",
        "colab_type": "text"
      },
      "source": [
        "<a href=\"https://colab.research.google.com/github/aimanhaziqmy/Data-analytics-cardiovascular-disease/blob/main/Cardiovascular_disease.ipynb\" target=\"_parent\"><img src=\"https://colab.research.google.com/assets/colab-badge.svg\" alt=\"Open In Colab\"/></a>"
      ]
    },
    {
      "cell_type": "markdown",
      "source": [
        "# Cardiovascular Disease Dataset - Analysis on CVD risk\n",
        "\n",
        "dataset from kaggle : [Cardiovascular Disease Dataset](https://www.kaggle.com/datasets/sulianova/cardiovascular-disease-dataset/)"
      ],
      "metadata": {
        "id": "72DxVBcP50rL"
      }
    },
    {
      "cell_type": "code",
      "execution_count": 1,
      "metadata": {
        "id": "r_BISa8w5HCo"
      },
      "outputs": [],
      "source": [
        "import pandas as pd"
      ]
    }
  ]
}